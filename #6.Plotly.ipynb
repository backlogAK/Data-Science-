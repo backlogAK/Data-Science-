{
 "cells": [
  {
   "cell_type": "markdown",
   "id": "273cfe46-aa7b-44ba-8a0f-1c01c7262712",
   "metadata": {},
   "source": [
    "COLLABORATIVE ANALYTICS WITH PLOTLY"
   ]
  },
  {
   "cell_type": "code",
   "execution_count": null,
   "id": "db4eac2e-bbf0-4faf-816b-e50d07b90f83",
   "metadata": {},
   "outputs": [],
   "source": [
    "# https://chart-studio.plotly.com/feed/#/"
   ]
  },
  {
   "cell_type": "code",
   "execution_count": 41,
   "id": "93fe2b1f-70be-4811-8734-2bdb7ad3c385",
   "metadata": {
    "tags": []
   },
   "outputs": [],
   "source": [
    "# 1.Creating Basic Charts\n",
    "\n",
    "import numpy as np\n",
    "import pandas as pd\n",
    "import cufflinks as cf\n",
    "\n",
    "import chart_studio.plotly as py\n",
    "import chart_studio.tools as tls\n",
    "import plotly.graph_objs as go"
   ]
  },
  {
   "cell_type": "code",
   "execution_count": 42,
   "id": "f0bfb4ce-4e93-4700-a079-afb4e479f6a2",
   "metadata": {
    "tags": []
   },
   "outputs": [],
   "source": [
    "tls.set_credentials_file(username='ayushgoley', api_key='2vo1bHqg3u7kgIoWS6Bq')"
   ]
  },
  {
   "cell_type": "code",
   "execution_count": 27,
   "id": "451646ec-8ca7-4506-a743-25d7c92afc8f",
   "metadata": {
    "tags": []
   },
   "outputs": [
    {
     "data": {
      "text/html": [
       "\n",
       "        <iframe\n",
       "            width=\"100%\"\n",
       "            height=\"525px\"\n",
       "            src=\"https://plotly.com/~ayushgoley/1.embed\"\n",
       "            frameborder=\"0\"\n",
       "            allowfullscreen\n",
       "            \n",
       "        ></iframe>\n",
       "        "
      ],
      "text/plain": [
       "<IPython.lib.display.IFrame at 0x2a84ece7e50>"
      ]
     },
     "execution_count": 27,
     "metadata": {},
     "output_type": "execute_result"
    }
   ],
   "source": [
    "# Creating Line Charts\n",
    "a = np.linspace(start=0, stop=36, num=36)\n",
    "np.random.seed(25)\n",
    "b = np.random.uniform(low=0.0, high=1.0, size=36)\n",
    "trace = go.Scatter(x=a, y=b)\n",
    "data = [trace]\n",
    "py.iplot(data, filename=\"Basic_Line_Charts\")\n"
   ]
  },
  {
   "cell_type": "code",
   "execution_count": 33,
   "id": "a05d09a4-7bc1-4a6f-bc23-f656bf66bf06",
   "metadata": {
    "tags": []
   },
   "outputs": [
    {
     "data": {
      "text/html": [
       "\n",
       "        <iframe\n",
       "            width=\"100%\"\n",
       "            height=\"525px\"\n",
       "            src=\"https://plotly.com/~ayushgoley/4.embed\"\n",
       "            frameborder=\"0\"\n",
       "            allowfullscreen\n",
       "            \n",
       "        ></iframe>\n",
       "        "
      ],
      "text/plain": [
       "<IPython.lib.display.IFrame at 0x2a85028bb20>"
      ]
     },
     "execution_count": 33,
     "metadata": {},
     "output_type": "execute_result"
    }
   ],
   "source": [
    "# Creating a line chart from pandas dataframe\n",
    "cars = pd.read_csv('C://Users//ayush//OneDrive//Desktop//mtcars.csv')\n",
    "cars.columns = ['car_names','mpg','cyl','disp','hp','drat','wt','qsec','vs','am','gear','carb']\n",
    "df = cars[['cyl', 'wt', 'mpg']]\n",
    "layout = dict(title=\"Chart From Pandas DataFrame\", xaxis=dict(title='x-axis'), yaxis=dict(title='y-axis'))\n",
    "df.iplot(filename='cf-simple-line-chart', layout=layout)"
   ]
  },
  {
   "cell_type": "code",
   "execution_count": 34,
   "id": "b414cd0c-314d-4d16-8fc6-bb66f06f322d",
   "metadata": {
    "tags": []
   },
   "outputs": [
    {
     "name": "stdout",
     "output_type": "stream",
     "text": [
      "[Bar({\n",
      "    'x': [1, 2, 3, 4, 5, 6, 7, 8, 9, 10], 'y': [1, 2, 3, 4, 0.5, 4, 3, 2, 1]\n",
      "})]\n"
     ]
    }
   ],
   "source": [
    "# Creating Bar Charts\n",
    "data = [go.Bar(x=[1,2,3,4,5,6,7,8,9,10], y=[1,2,3,4,0.5,4,3,2,1])]\n",
    "print(data)"
   ]
  },
  {
   "cell_type": "code",
   "execution_count": 35,
   "id": "1d5955bc-743b-416c-88c6-7bb6dd3df0b3",
   "metadata": {
    "tags": []
   },
   "outputs": [
    {
     "data": {
      "text/html": [
       "\n",
       "        <iframe\n",
       "            width=\"100%\"\n",
       "            height=\"525px\"\n",
       "            src=\"https://plotly.com/~ayushgoley/6.embed\"\n",
       "            frameborder=\"0\"\n",
       "            allowfullscreen\n",
       "            \n",
       "        ></iframe>\n",
       "        "
      ],
      "text/plain": [
       "<IPython.lib.display.IFrame at 0x2a85028a710>"
      ]
     },
     "execution_count": 35,
     "metadata": {},
     "output_type": "execute_result"
    }
   ],
   "source": [
    "# Generating data visualization\n",
    "layout = dict(title='Simple Bar Chart', xaxis= dict(title='x-axis'), yaxis=dict(title='y-axis'))\n",
    "py.iplot(data, filename='basic-bar-chart', layout=layout)"
   ]
  },
  {
   "cell_type": "code",
   "execution_count": 36,
   "id": "b0c55e62-7241-4b2e-a4d6-f3a4e8fa239e",
   "metadata": {
    "tags": []
   },
   "outputs": [
    {
     "data": {
      "text/html": [
       "\n",
       "        <iframe\n",
       "            width=\"100%\"\n",
       "            height=\"525px\"\n",
       "            src=\"https://plotly.com/~ayushgoley/8.embed\"\n",
       "            frameborder=\"0\"\n",
       "            allowfullscreen\n",
       "            \n",
       "        ></iframe>\n",
       "        "
      ],
      "text/plain": [
       "<IPython.lib.display.IFrame at 0x2a85028ba30>"
      ]
     },
     "execution_count": 36,
     "metadata": {},
     "output_type": "execute_result"
    }
   ],
   "source": [
    "# Creating Pie Charts\n",
    "fig = {'data':[{'labels': ['bicycle', 'motorcycle', 'car', 'van', 'stroller'],\n",
    "               'values': [1,2,3,4,5],\n",
    "               'type': 'pie'}], \n",
    "      'layout': {'title': 'Simple Pie Chart'}}\n",
    "py.iplot(fig)"
   ]
  },
  {
   "cell_type": "code",
   "execution_count": 43,
   "id": "c0401afc-99cd-4901-90db-3e7c1cdf1dcd",
   "metadata": {
    "tags": []
   },
   "outputs": [],
   "source": [
    "# How to generate statistical plots using plotly\n",
    "import numpy as np\n",
    "import pandas as pd\n",
    "import cufflinks as cf\n",
    "\n",
    "import chart_studio.plotly as py\n",
    "import chart_studio.tools as tls\n",
    "import plotly.graph_objs as go\n",
    "\n",
    "import sklearn\n",
    "from sklearn.preprocessing import StandardScaler"
   ]
  },
  {
   "cell_type": "code",
   "execution_count": 44,
   "id": "2d3a1067-b14b-4d78-b37c-b3a37dd30403",
   "metadata": {
    "tags": []
   },
   "outputs": [],
   "source": [
    "tls.set_credentials_file(username='ayushgoley', api_key='2vo1bHqg3u7kgIoWS6Bq')"
   ]
  },
  {
   "cell_type": "code",
   "execution_count": 46,
   "id": "25b282ba-57c4-4a63-b7c8-7270378380a0",
   "metadata": {
    "tags": []
   },
   "outputs": [
    {
     "data": {
      "text/html": [
       "\n",
       "        <iframe\n",
       "            width=\"100%\"\n",
       "            height=\"525px\"\n",
       "            src=\"https://plotly.com/~ayushgoley/10.embed\"\n",
       "            frameborder=\"0\"\n",
       "            allowfullscreen\n",
       "            \n",
       "        ></iframe>\n",
       "        "
      ],
      "text/plain": [
       "<IPython.lib.display.IFrame at 0x2a850f65420>"
      ]
     },
     "execution_count": 46,
     "metadata": {},
     "output_type": "execute_result"
    }
   ],
   "source": [
    "# Creating Histograms\n",
    "cars = pd.read_csv('C://Users//ayush//OneDrive//Desktop//mtcars.csv')\n",
    "cars.columns = ['car_names','mpg','cyl','disp','hp','drat','wt','qsec','vs','am','gear','carb']\n",
    "\n",
    "mpg = cars.mpg\n",
    "mpg.iplot(kind='histogram', filename='simple-histogram-chart')"
   ]
  },
  {
   "cell_type": "code",
   "execution_count": 50,
   "id": "5a991e33-58cf-48dd-a50d-e8c9813ee9f8",
   "metadata": {
    "tags": []
   },
   "outputs": [
    {
     "data": {
      "text/html": [
       "\n",
       "        <iframe\n",
       "            width=\"100%\"\n",
       "            height=\"525px\"\n",
       "            src=\"https://plotly.com/~ayushgoley/12.embed\"\n",
       "            frameborder=\"0\"\n",
       "            allowfullscreen\n",
       "            \n",
       "        ></iframe>\n",
       "        "
      ],
      "text/plain": [
       "<IPython.lib.display.IFrame at 0x2a850f8b850>"
      ]
     },
     "execution_count": 50,
     "metadata": {},
     "output_type": "execute_result"
    }
   ],
   "source": [
    "# Creating multiple histograms\n",
    "cars_subset = cars[['mpg','disp','hp']]\n",
    "cars_data_std = StandardScaler().fit_transform(cars_subset)\n",
    "\n",
    "cars_select = pd.DataFrame(cars_data_std)\n",
    "cars_select.columns = ['mpg','disp','hp']\n",
    "\n",
    "cars_select.iplot(kind='histogram', filename='multiple-histogram-chart')"
   ]
  },
  {
   "cell_type": "code",
   "execution_count": 53,
   "id": "7a5dafae-3ced-4212-81e5-15e99104f9a7",
   "metadata": {
    "tags": []
   },
   "outputs": [
    {
     "data": {
      "text/html": [
       "\n",
       "        <iframe\n",
       "            width=\"100%\"\n",
       "            height=\"525px\"\n",
       "            src=\"https://plotly.com/~ayushgoley/14.embed\"\n",
       "            frameborder=\"0\"\n",
       "            allowfullscreen\n",
       "            \n",
       "        ></iframe>\n",
       "        "
      ],
      "text/plain": [
       "<IPython.lib.display.IFrame at 0x2a850fb2dd0>"
      ]
     },
     "execution_count": 53,
     "metadata": {},
     "output_type": "execute_result"
    }
   ],
   "source": [
    "# Creating subplot histogram\n",
    "cars_select.iplot(kind='histogram', subplots=True, filename='subplot-histogram')"
   ]
  },
  {
   "cell_type": "code",
   "execution_count": 54,
   "id": "5e5d039f-8ea0-47f0-bb79-2412b525102c",
   "metadata": {
    "tags": []
   },
   "outputs": [
    {
     "data": {
      "text/html": [
       "\n",
       "        <iframe\n",
       "            width=\"100%\"\n",
       "            height=\"525px\"\n",
       "            src=\"https://plotly.com/~ayushgoley/12.embed\"\n",
       "            frameborder=\"0\"\n",
       "            allowfullscreen\n",
       "            \n",
       "        ></iframe>\n",
       "        "
      ],
      "text/plain": [
       "<IPython.lib.display.IFrame at 0x2a850f25570>"
      ]
     },
     "execution_count": 54,
     "metadata": {},
     "output_type": "execute_result"
    }
   ],
   "source": [
    "# Stacking histograms\n",
    "cars_select.iplot(kind='histogram', subplots=True, shape=(3,1), filename='multiple-histogram-chart')"
   ]
  },
  {
   "cell_type": "code",
   "execution_count": 55,
   "id": "03353b3e-61ec-4afa-94cc-276c8e139f82",
   "metadata": {
    "tags": []
   },
   "outputs": [
    {
     "data": {
      "text/html": [
       "\n",
       "        <iframe\n",
       "            width=\"100%\"\n",
       "            height=\"525px\"\n",
       "            src=\"https://plotly.com/~ayushgoley/12.embed\"\n",
       "            frameborder=\"0\"\n",
       "            allowfullscreen\n",
       "            \n",
       "        ></iframe>\n",
       "        "
      ],
      "text/plain": [
       "<IPython.lib.display.IFrame at 0x2a8517d6bc0>"
      ]
     },
     "execution_count": 55,
     "metadata": {},
     "output_type": "execute_result"
    }
   ],
   "source": [
    "cars_select.iplot(kind='histogram', subplots=True, shape=(1,3), filename='multiple-histogram-chart')"
   ]
  },
  {
   "cell_type": "code",
   "execution_count": 56,
   "id": "e1b74338-9808-4775-9156-f3f860c14086",
   "metadata": {
    "tags": []
   },
   "outputs": [
    {
     "data": {
      "text/html": [
       "\n",
       "        <iframe\n",
       "            width=\"100%\"\n",
       "            height=\"525px\"\n",
       "            src=\"https://plotly.com/~ayushgoley/18.embed\"\n",
       "            frameborder=\"0\"\n",
       "            allowfullscreen\n",
       "            \n",
       "        ></iframe>\n",
       "        "
      ],
      "text/plain": [
       "<IPython.lib.display.IFrame at 0x2a8517ad150>"
      ]
     },
     "execution_count": 56,
     "metadata": {},
     "output_type": "execute_result"
    }
   ],
   "source": [
    "# Creating Boxplot\n",
    "cars_select.iplot(kind='box', filename='box-plot')"
   ]
  },
  {
   "cell_type": "code",
   "execution_count": 60,
   "id": "f380a0f4-9d22-42f9-af5e-a47d900d7429",
   "metadata": {
    "tags": []
   },
   "outputs": [
    {
     "data": {
      "text/html": [
       "\n",
       "        <iframe\n",
       "            width=\"100%\"\n",
       "            height=\"525px\"\n",
       "            src=\"https://plotly.com/~ayushgoley/22.embed\"\n",
       "            frameborder=\"0\"\n",
       "            allowfullscreen\n",
       "            \n",
       "        ></iframe>\n",
       "        "
      ],
      "text/plain": [
       "<IPython.lib.display.IFrame at 0x2a851755b40>"
      ]
     },
     "execution_count": 60,
     "metadata": {},
     "output_type": "execute_result"
    }
   ],
   "source": [
    "# Creating Scatter Plot\n",
    "fig = {'data': [{'x': cars_select.mpg, 'y': cars_select.disp, 'mode': 'markers', 'name': 'mpg'},\n",
    "               {'x': cars_select.hp, 'y': cars_select.disp, 'mode': 'markers', 'name': 'hp'}],\n",
    "      'layout': {'xaxis': {'title': ''}, 'yaxis': {'title': 'Standardized Displacement'}}}\n",
    "py.iplot(fig, filename='grouped-scatter-plot')"
   ]
  },
  {
   "cell_type": "code",
   "execution_count": 57,
   "id": "408005aa-588e-4c2e-8348-7e46adbb0d44",
   "metadata": {
    "tags": []
   },
   "outputs": [
    {
     "data": {
      "text/html": [
       "\n",
       "        <iframe\n",
       "            width=\"100%\"\n",
       "            height=\"525px\"\n",
       "            src=\"https://plotly.com/~ayushgoley/20.embed\"\n",
       "            frameborder=\"0\"\n",
       "            allowfullscreen\n",
       "            \n",
       "        ></iframe>\n",
       "        "
      ],
      "text/plain": [
       "<IPython.lib.display.IFrame at 0x2a851557370>"
      ]
     },
     "execution_count": 57,
     "metadata": {},
     "output_type": "execute_result"
    }
   ],
   "source": [
    "cars_select.iplot(kind='scatter', filename='scatter-plot')"
   ]
  },
  {
   "cell_type": "code",
   "execution_count": null,
   "id": "42e82286-60b3-49e3-b6a4-7d85766597de",
   "metadata": {},
   "outputs": [],
   "source": []
  }
 ],
 "metadata": {
  "kernelspec": {
   "display_name": "Python 3 (ipykernel)",
   "language": "python",
   "name": "python3"
  },
  "language_info": {
   "codemirror_mode": {
    "name": "ipython",
    "version": 3
   },
   "file_extension": ".py",
   "mimetype": "text/x-python",
   "name": "python",
   "nbconvert_exporter": "python",
   "pygments_lexer": "ipython3",
   "version": "3.10.8"
  }
 },
 "nbformat": 4,
 "nbformat_minor": 5
}
